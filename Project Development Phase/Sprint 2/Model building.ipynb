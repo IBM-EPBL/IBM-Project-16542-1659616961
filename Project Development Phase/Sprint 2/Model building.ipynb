{
 "cells": [
  {
   "cell_type": "markdown",
   "id": "1a8d607c",
   "metadata": {},
   "source": [
    "# Train - Test split up"
   ]
  },
  {
   "cell_type": "code",
   "execution_count": 40,
   "id": "fd2485a1",
   "metadata": {},
   "outputs": [],
   "source": [
    "Y = data_cluster\n",
    "features = list(df_wqi.columns)[3:11]\n",
    "X = df_wqi[features] "
   ]
  },
  {
   "cell_type": "code",
   "execution_count": 41,
   "id": "84faddc8",
   "metadata": {},
   "outputs": [
    {
     "data": {
      "text/plain": [
       "array([[ 1.34511362,  0.18463835, -0.11082095, ..., -0.62690663,\n",
       "        -0.26589954, -0.17680737],\n",
       "       [ 1.09779191, -0.6170203 , -0.11320514, ..., -0.56345682,\n",
       "         0.344711  ,  0.03549767],\n",
       "       [ 1.00504627, -0.13602511, -0.11558934, ..., -0.62690663,\n",
       "         0.13343135, -0.04220029],\n",
       "       ...,\n",
       "       [ 0.54131807,  0.90613114,  0.60841178, ..., -0.36295544,\n",
       "        -0.23995292, -0.16302429],\n",
       "       [ 0.54131807,  0.986297  ,  0.55278052, ..., -0.36295544,\n",
       "        -0.23995292, -0.16322736],\n",
       "       [ 0.8504702 ,  0.90613114,  0.70377966, ..., -0.36295544,\n",
       "        -0.23995292, -0.16363349]])"
      ]
     },
     "execution_count": 41,
     "metadata": {},
     "output_type": "execute_result"
    }
   ],
   "source": [
    "from sklearn.preprocessing import StandardScaler \n",
    "\n",
    "scaler = StandardScaler() \n",
    "X_scaled = scaler.fit_transform(X) \n",
    "X_scaled "
   ]
  },
  {
   "cell_type": "markdown",
   "id": "1d9f076f",
   "metadata": {},
   "source": [
    "### Dump the transformer into pickle for scaling user's input"
   ]
  },
  {
   "cell_type": "code",
   "execution_count": 42,
   "id": "21b64967",
   "metadata": {},
   "outputs": [],
   "source": [
    "import pickle \n",
    "pickle.dump(scaler, open('object.pkl', 'wb')) "
   ]
  },
  {
   "cell_type": "code",
   "execution_count": 43,
   "id": "33548286",
   "metadata": {},
   "outputs": [],
   "source": [
    "from sklearn.model_selection import train_test_split\n",
    "X_train, X_test, y_train, y_test = train_test_split(X_scaled, Y, test_size=0.2, random_state=30) "
   ]
  },
  {
   "cell_type": "markdown",
   "id": "d883c6db",
   "metadata": {},
   "source": [
    "## Model building and training"
   ]
  },
  {
   "cell_type": "markdown",
   "id": "895c172a",
   "metadata": {
    "scrolled": true
   },
   "source": [
    "## Models tried out : \n",
    "\n",
    "### 1. Random Forest Classifier\n",
    "### 2. K Neighbors Classifier\n",
    "### 3. Support Vector Classifier\n",
    "### 4. XG Boost"
   ]
  },
  {
   "cell_type": "code",
   "execution_count": 48,
   "id": "6e0827b0",
   "metadata": {
    "scrolled": false
   },
   "outputs": [
    {
     "name": "stdout",
     "output_type": "stream",
     "text": [
      "\n",
      "-----\tmodel: RandomForestClassifier()\t-----\n",
      "\n",
      "Score :  0.8817204301075269\n",
      "\n",
      "              precision    recall  f1-score   support\n",
      "\n",
      "           0       0.99      0.85      0.91       106\n",
      "           1       0.85      0.89      0.87        63\n",
      "           2       0.84      0.96      0.90       140\n",
      "           3       0.86      0.77      0.81        62\n",
      "           4       1.00      0.00      0.00         1\n",
      "\n",
      "    accuracy                           0.88       372\n",
      "   macro avg       0.91      0.69      0.70       372\n",
      "weighted avg       0.89      0.88      0.88       372\n",
      "\n",
      "\n",
      "-----\tmodel: KNeighborsClassifier()\t-----\n",
      "\n",
      "Score :  0.6935483870967742\n",
      "\n",
      "              precision    recall  f1-score   support\n",
      "\n",
      "           0       0.93      0.76      0.84       106\n",
      "           1       0.58      0.56      0.57        63\n",
      "           2       0.63      0.80      0.71       140\n",
      "           3       0.62      0.48      0.55        62\n",
      "           4       1.00      0.00      0.00         1\n",
      "\n",
      "    accuracy                           0.69       372\n",
      "   macro avg       0.75      0.52      0.53       372\n",
      "weighted avg       0.71      0.69      0.69       372\n",
      "\n",
      "\n",
      "-----\tmodel: SVC()\t-----\n",
      "\n",
      "Score :  0.6424731182795699\n",
      "\n",
      "              precision    recall  f1-score   support\n",
      "\n",
      "           0       0.99      0.66      0.79       106\n",
      "           1       0.63      0.52      0.57        63\n",
      "           2       0.55      0.97      0.70       140\n",
      "           3       1.00      0.00      0.00        62\n",
      "           4       1.00      0.00      0.00         1\n",
      "\n",
      "    accuracy                           0.64       372\n",
      "   macro avg       0.83      0.43      0.41       372\n",
      "weighted avg       0.76      0.64      0.59       372\n",
      "\n",
      "\n",
      "-----\tmodel: XGBClassifier(base_score=0.5, booster='gbtree', callbacks=None,\n",
      "              colsample_bylevel=1, colsample_bynode=1, colsample_bytree=1,\n",
      "              early_stopping_rounds=None, enable_categorical=False,\n",
      "              eval_metric=None, feature_types=None, gamma=0, gpu_id=-1,\n",
      "              grow_policy='depthwise', importance_type=None,\n",
      "              interaction_constraints='', learning_rate=0.300000012,\n",
      "              max_bin=256, max_cat_threshold=64, max_cat_to_onehot=4,\n",
      "              max_delta_step=0, max_depth=6, max_leaves=0, min_child_weight=1,\n",
      "              missing=nan, monotone_constraints='()', n_estimators=100,\n",
      "              n_jobs=0, num_parallel_tree=1, objective='multi:softprob',\n",
      "              predictor='auto', ...)\t-----\n",
      "\n",
      "Score :  0.8924731182795699\n",
      "\n",
      "              precision    recall  f1-score   support\n",
      "\n",
      "           0       0.99      0.85      0.91       106\n",
      "           1       0.81      0.89      0.85        63\n",
      "           2       0.88      0.96      0.92       140\n",
      "           3       0.87      0.84      0.85        62\n",
      "           4       1.00      0.00      0.00         1\n",
      "\n",
      "    accuracy                           0.89       372\n",
      "   macro avg       0.91      0.71      0.71       372\n",
      "weighted avg       0.90      0.89      0.89       372\n",
      "\n"
     ]
    }
   ],
   "source": [
    "from sklearn.ensemble import RandomForestClassifier\n",
    "from sklearn.neighbors import KNeighborsClassifier\n",
    "from sklearn import svm\n",
    "from sklearn.linear_model import LogisticRegression\n",
    "from sklearn.ensemble import GradientBoostingClassifier\n",
    "from sklearn.svm import SVC\n",
    "from sklearn.metrics import accuracy_score\n",
    "from sklearn.model_selection import train_test_split, GridSearchCV\n",
    "import xgboost as xgb\n",
    "\n",
    "from sklearn.metrics import precision_score,recall_score\n",
    "from sklearn.metrics import f1_score\n",
    "from sklearn.metrics import confusion_matrix,accuracy_score, classification_report\n",
    "models = [RandomForestClassifier(), KNeighborsClassifier(), SVC(), xgb.XGBClassifier()]\n",
    "\n",
    "for m in models:\n",
    "    m.fit(X_train, y_train)\n",
    "    y_pred = m.predict(X_test)\n",
    "    score = m.score(X_test, y_test) \n",
    "\n",
    "    print()\n",
    "    print('-----\\t', end=\"\")\n",
    "    print(f'model: {str(m)}', end=\"\") \n",
    "    print('\\t-----')\n",
    "    print()\n",
    "    print(\"Score : \", score)\n",
    "    print()\n",
    "    print(classification_report(y_test,y_pred, zero_division=1))"
   ]
  },
  {
   "cell_type": "markdown",
   "id": "b4ed3b8b",
   "metadata": {},
   "source": [
    "## Model Chosen - Random Forest Classifier"
   ]
  },
  {
   "cell_type": "markdown",
   "id": "23d9ba7f",
   "metadata": {},
   "source": [
    "## Saving the model into pickle and testing for a sample"
   ]
  },
  {
   "cell_type": "code",
   "execution_count": 49,
   "id": "90f407ba",
   "metadata": {},
   "outputs": [],
   "source": [
    "import pickle\n",
    "from sklearn.preprocessing import StandardScaler \n",
    "\n",
    "def get_input():\n",
    "    testing = []\n",
    "    inp = []\n",
    "    \n",
    "    print(\"Provide the following info required for prediction : \\n\")\n",
    "    print(\"Temperature in Celcius     : \")\n",
    "    inp.append(float(input())) \n",
    "    \n",
    "    print(\"Dissolved oxygen in (mg/l) : \")\n",
    "    inp.append(float(input()))\n",
    "    \n",
    "    print(\"Potential of Hydrogen (PH) : \") \n",
    "    inp.append(float(input())) \n",
    "    \n",
    "    print(\"CONDUCTIVITY (µmhos/cm)    : \")\n",
    "    inp.append(float(input()))\n",
    "    \n",
    "    print(\"Biochemical Oxygen Demand  : \")\n",
    "    inp.append(float(input()))\n",
    "    \n",
    "    print(\"NITRATENAN N+ (mg/l)       : \")\n",
    "    inp.append(float(input()))\n",
    "    \n",
    "    print(\"FECAL COLIFORM (MPN/100ml) : \")\n",
    "    inp.append(float(input()))\n",
    "    \n",
    "    print(\"TOTAL COLIFORM (MPN/100ml) : \")\n",
    "    inp.append(float(input()))\n",
    "    \n",
    "    testing.append(inp)\n",
    "    return testing\n",
    "\n",
    "def scaling(testing):\n",
    "    scaler = StandardScaler()\n",
    "    testing = scaler.fit_transform(testing) \n",
    "    return testing\n",
    "\n",
    "def test():\n",
    "#     t = get_input()\n",
    "    t = [[30.6, 6.7, 7.5, 203.0, 1.8965, 0.1, 11.0, 27.0]]\n",
    "    print()\n",
    "    loaded_transformer = pickle.load(open('object.pkl', 'rb'))\n",
    "    print(type(loaded_transformer))\n",
    "    t = loaded_transformer.transform(t)\n",
    "    print(t)\n",
    "    pickle.dump(model, open('wqi_prediction_model.pkl', 'wb'))\n",
    "    loaded_model = pickle.load(open('wqi_prediction_model.pkl', 'rb'))\n",
    "    print(loaded_model.predict(t))"
   ]
  },
  {
   "cell_type": "code",
   "execution_count": 50,
   "id": "5a128401",
   "metadata": {},
   "outputs": [
    {
     "name": "stdout",
     "output_type": "stream",
     "text": [
      "\n",
      "<class 'sklearn.preprocessing._data.StandardScaler'>\n",
      "[[ 1.34511362  0.18463835 -0.11082095 -0.27826799 -0.28684006 -0.62690663\n",
      "  -0.26589954 -0.17680737]]\n",
      "[2]\n"
     ]
    },
    {
     "name": "stderr",
     "output_type": "stream",
     "text": [
      "C:\\Users\\DHARUN DB\\AppData\\Local\\Programs\\Python\\Python39\\lib\\site-packages\\sklearn\\base.py:450: UserWarning: X does not have valid feature names, but StandardScaler was fitted with feature names\n",
      "  warnings.warn(\n"
     ]
    }
   ],
   "source": [
    "test() "
   ]
  },
  {
   "cell_type": "code",
   "execution_count": null,
   "id": "41848058",
   "metadata": {},
   "outputs": [],
   "source": []
  },
  {
   "cell_type": "code",
   "execution_count": null,
   "id": "237e8eca",
   "metadata": {},
   "outputs": [],
   "source": []
  }
 ],
 "metadata": {
  "kernelspec": {
   "display_name": "Python 3 (ipykernel)",
   "language": "python",
   "name": "python3"
  },
  "language_info": {
   "codemirror_mode": {
    "name": "ipython",
    "version": 3
   },
   "file_extension": ".py",
   "mimetype": "text/x-python",
   "name": "python",
   "nbconvert_exporter": "python",
   "pygments_lexer": "ipython3",
   "version": "3.9.7"
  }
 },
 "nbformat": 4,
 "nbformat_minor": 5
}
